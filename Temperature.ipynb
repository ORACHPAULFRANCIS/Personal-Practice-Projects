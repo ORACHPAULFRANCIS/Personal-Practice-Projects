{
  "nbformat": 4,
  "nbformat_minor": 0,
  "metadata": {
    "colab": {
      "provenance": [],
      "authorship_tag": "ABX9TyMjwm1c7haish6d1xbLLCFt",
      "include_colab_link": true
    },
    "kernelspec": {
      "name": "python3",
      "display_name": "Python 3"
    },
    "language_info": {
      "name": "python"
    }
  },
  "cells": [
    {
      "cell_type": "markdown",
      "metadata": {
        "id": "view-in-github",
        "colab_type": "text"
      },
      "source": [
        "<a href=\"https://colab.research.google.com/github/ORACHPAULFRANCIS/Personal-Practice-Projects/blob/Google-Colab-Commits/Temperature.ipynb\" target=\"_parent\"><img src=\"https://colab.research.google.com/assets/colab-badge.svg\" alt=\"Open In Colab\"/></a>"
      ]
    },
    {
      "cell_type": "code",
      "execution_count": null,
      "metadata": {
        "id": "lSRaiVbJA4o3"
      },
      "outputs": [],
      "source": [
        "def convert_temperature():\n",
        "    \"\"\"\n",
        "    Convert temperature values between various units.\n",
        "\n",
        "    This function allows users to input a temperature value in one unit and convert it\n",
        "    to another, using formulas relative to Kelvin. Supported units include Celsius,\n",
        "    Fahrenheit, Kelvin, Rankine, Delisle, Newton, Réaumur, and Rømer.\n",
        "\n",
        "    Supported Units:\n",
        "    ----------------\n",
        "    | Celsius (c)\n",
        "    | Fahrenheit (f)\n",
        "    | Kelvin (k)\n",
        "    | Rankine (r)\n",
        "    | Delisle (de)\n",
        "    | Newton (n)\n",
        "    | Réaumur (re)\n",
        "    | Rømer (ro)\n",
        "\n",
        "    Input:\n",
        "        Prompts the user to:\n",
        "        - Enter a temperature value (numeric)\n",
        "        - Enter the unit to convert from (string)\n",
        "        - Enter the unit to convert to (string)\n",
        "\n",
        "    Output:\n",
        "        Displays the converted temperature value or an error if input is invalid.\n",
        "\n",
        "    Example:\n",
        "        Enter temperature value: 100\n",
        "        Enter the unit to convert from (e.g., c): c\n",
        "        Enter the unit to convert to (e.g., f): f\n",
        "\n",
        "        ✅ 100 c = 212.0000 f\n",
        "\n",
        "    Raises:\n",
        "        ValueError: If a non-numeric value is entered for the temperature.\n",
        "\n",
        "    Author:\n",
        "        Orach Paul Francis\n",
        "    \"\"\"\n",
        "\n",
        "    units = ['c', 'f', 'k', 'r', 'de', 'n', 're', 'ro']\n",
        "\n",
        "    def to_kelvin(value, unit):\n",
        "        conversions = {\n",
        "            'c': lambda x: x + 273.15,\n",
        "            'f': lambda x: (x - 32) * 5/9 + 273.15,\n",
        "            'k': lambda x: x,\n",
        "            'r': lambda x: x * 5/9,\n",
        "            'de': lambda x: 373.15 - x * 2/3,\n",
        "            'n': lambda x: x * 100/33 + 273.15,\n",
        "            're': lambda x: x * 5/4 + 273.15,\n",
        "            'ro': lambda x: (x - 7.5) * 40/21 + 273.15,\n",
        "        }\n",
        "        return conversions[unit](value)\n",
        "\n",
        "    def from_kelvin(kelvin, unit):\n",
        "        conversions = {\n",
        "            'c': lambda x: x - 273.15,\n",
        "            'f': lambda x: (x - 273.15) * 9/5 + 32,\n",
        "            'k': lambda x: x,\n",
        "            'r': lambda x: x * 9/5,\n",
        "            'de': lambda x: (373.15 - x) * 3/2,\n",
        "            'n': lambda x: (x - 273.15) * 33/100,\n",
        "            're': lambda x: (x - 273.15) * 4/5,\n",
        "            'ro': lambda x: (x - 273.15) * 21/40 + 7.5,\n",
        "        }\n",
        "        return conversions[unit](kelvin)\n",
        "\n",
        "    print(\"Supported units: c, f, k, r, de, n, re, ro\")\n",
        "    try:\n",
        "        value = float(input(\"Enter temperature value: \"))\n",
        "        from_unit = input(\"Enter the unit to convert from (e.g., c): \").lower()\n",
        "        to_unit = input(\"Enter the unit to convert to (e.g., f): \").lower()\n",
        "\n",
        "        if from_unit not in units or to_unit not in units:\n",
        "            print(\"❌ Invalid unit entered.\")\n",
        "            return\n",
        "\n",
        "        kelvin_value = to_kelvin(value, from_unit)\n",
        "        result = from_kelvin(kelvin_value, to_unit)\n",
        "\n",
        "        print(f\"\\n✅ {value} {from_unit} = {result:.4f} {to_unit}\")\n",
        "\n",
        "    except ValueError:\n",
        "        print(\"❌ Invalid input. Please enter a numeric temperature.\")\n"
      ]
    }
  ]
}